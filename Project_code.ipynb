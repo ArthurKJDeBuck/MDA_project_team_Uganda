{
 "cells": [
  {
   "cell_type": "markdown",
   "metadata": {},
   "source": [
    "Installing required packages"
   ]
  },
  {
   "cell_type": "code",
   "execution_count": 32,
   "metadata": {},
   "outputs": [
    {
     "name": "stdout",
     "output_type": "stream",
     "text": [
      "Requirement already satisfied: pyarrow in c:\\users\\arthu\\appdata\\local\\programs\\python\\python38\\lib\\site-packages (15.0.2)Note: you may need to restart the kernel to use updated packages.\n",
      "\n",
      "Requirement already satisfied: numpy<2,>=1.16.6 in c:\\users\\arthu\\appdata\\local\\programs\\python\\python38\\lib\\site-packages (from pyarrow) (1.24.4)\n"
     ]
    }
   ],
   "source": [
    "pip install pyarrow"
   ]
  },
  {
   "cell_type": "markdown",
   "metadata": {},
   "source": [
    "Loading in the required packages"
   ]
  },
  {
   "cell_type": "code",
   "execution_count": 4,
   "metadata": {},
   "outputs": [],
   "source": [
    "import pyarrow.parquet as pq\n",
    "import pandas as pd"
   ]
  },
  {
   "cell_type": "markdown",
   "metadata": {},
   "source": [
    "Loading in the datasets (make sure to change file locations)"
   ]
  },
  {
   "cell_type": "code",
   "execution_count": 5,
   "metadata": {},
   "outputs": [],
   "source": [
    "aed_locations = pd.read_parquet(\"C:/Users/arthu/OneDrive/Documenten/KU Leuven/Master 1/Semester 2/Modern Data Analytics/aed_locations.parquet.gzip\")\n",
    "ambulance_locations = pd.read_parquet(\"C:/Users/arthu/OneDrive/Documenten/KU Leuven/Master 1/Semester 2/Modern Data Analytics/ambulance_locations.parquet.gzip\")\n",
    "cad9 = pd.read_parquet(\"C:/Users/arthu/OneDrive/Documenten/KU Leuven/Master 1/Semester 2/Modern Data Analytics/cad9.parquet.gzip\")\n",
    "interventions_bxl = pd.read_parquet(\"C:/Users/arthu/OneDrive/Documenten/KU Leuven/Master 1/Semester 2/Modern Data Analytics/interventions_bxl.parquet.gzip\")\n",
    "interventions_bxl2 = pd.read_parquet(\"C:/Users/arthu/OneDrive/Documenten/KU Leuven/Master 1/Semester 2/Modern Data Analytics/interventions_bxl2.parquet.gzip\")\n",
    "interventions1 = pd.read_parquet(\"C:/Users/arthu/OneDrive/Documenten/KU Leuven/Master 1/Semester 2/Modern Data Analytics/interventions1.parquet.gzip\")\n",
    "interventions2 = pd.read_parquet(\"C:/Users/arthu/OneDrive/Documenten/KU Leuven/Master 1/Semester 2/Modern Data Analytics/interventions2.parquet.gzip\")\n",
    "interventions3 = pd.read_parquet(\"C:/Users/arthu/OneDrive/Documenten/KU Leuven/Master 1/Semester 2/Modern Data Analytics/interventions3.parquet.gzip\")\n",
    "mug_locations = pd.read_parquet(\"C:/Users/arthu/OneDrive/Documenten/KU Leuven/Master 1/Semester 2/Modern Data Analytics/mug_locations.parquet.gzip\")\n",
    "pit_locations = pd.read_parquet(\"C:/Users/arthu/OneDrive/Documenten/KU Leuven/Master 1/Semester 2/Modern Data Analytics/pit_locations.parquet.gzip\")"
   ]
  },
  {
   "cell_type": "markdown",
   "metadata": {},
   "source": [
    "Looking at the head of one of the interventions datasets"
   ]
  },
  {
   "cell_type": "code",
   "execution_count": 36,
   "metadata": {},
   "outputs": [
    {
     "data": {
      "text/html": [
       "<div>\n",
       "<style scoped>\n",
       "    .dataframe tbody tr th:only-of-type {\n",
       "        vertical-align: middle;\n",
       "    }\n",
       "\n",
       "    .dataframe tbody tr th {\n",
       "        vertical-align: top;\n",
       "    }\n",
       "\n",
       "    .dataframe thead th {\n",
       "        text-align: right;\n",
       "    }\n",
       "</style>\n",
       "<table border=\"1\" class=\"dataframe\">\n",
       "  <thead>\n",
       "    <tr style=\"text-align: right;\">\n",
       "      <th></th>\n",
       "      <th>province</th>\n",
       "      <th>Mission ID</th>\n",
       "      <th>Service Name</th>\n",
       "      <th>Latitude permanence</th>\n",
       "      <th>Longitude permanence</th>\n",
       "      <th>Permanence short name</th>\n",
       "      <th>Permanence long name</th>\n",
       "      <th>Vector Type</th>\n",
       "      <th>EventType Trip</th>\n",
       "      <th>EventSubType Trip</th>\n",
       "      <th>...</th>\n",
       "      <th>Name destination hospital</th>\n",
       "      <th>Intervention time (T1Reported)</th>\n",
       "      <th>Intervention time (T1Confirmed)</th>\n",
       "      <th>Departure time (T1Reported)</th>\n",
       "      <th>Departure time (T1Confirmed)</th>\n",
       "      <th>UI</th>\n",
       "      <th>ID</th>\n",
       "      <th>MISSION_NR</th>\n",
       "      <th>AMBUCODE</th>\n",
       "      <th>UNIT_ID</th>\n",
       "    </tr>\n",
       "  </thead>\n",
       "  <tbody>\n",
       "    <tr>\n",
       "      <th>0</th>\n",
       "      <td>VBR</td>\n",
       "      <td>21221520003</td>\n",
       "      <td>MV HVP VILV West</td>\n",
       "      <td>50.925277</td>\n",
       "      <td>4.423057</td>\n",
       "      <td>AVVILV01A</td>\n",
       "      <td>ZW VILVOORDE 1</td>\n",
       "      <td>Ambulance</td>\n",
       "      <td>P034 - SCHEDELTRAUMA</td>\n",
       "      <td>/</td>\n",
       "      <td>...</td>\n",
       "      <td>HV UR VILV AZ JAN PORTAELS</td>\n",
       "      <td>10.0</td>\n",
       "      <td>NaN</td>\n",
       "      <td>2.0</td>\n",
       "      <td>NaN</td>\n",
       "      <td>21221520003   1969661672</td>\n",
       "      <td>19189868</td>\n",
       "      <td>21221520003</td>\n",
       "      <td>240.0</td>\n",
       "      <td>MVVILV101</td>\n",
       "    </tr>\n",
       "    <tr>\n",
       "      <th>1</th>\n",
       "      <td>VBR</td>\n",
       "      <td>21221520004</td>\n",
       "      <td>MV HVP HALL West</td>\n",
       "      <td>50.743200</td>\n",
       "      <td>4.241053</td>\n",
       "      <td>AVHALL02A</td>\n",
       "      <td>ZW HALLE 2</td>\n",
       "      <td>Ambulance</td>\n",
       "      <td>P010 - ADEMHALINGSMOEILIJKHEDEN</td>\n",
       "      <td>/</td>\n",
       "      <td>...</td>\n",
       "      <td>HV UR HALL AZ ST MARIA</td>\n",
       "      <td>7.0</td>\n",
       "      <td>NaN</td>\n",
       "      <td>3.0</td>\n",
       "      <td>NaN</td>\n",
       "      <td>21221520004   1969661709</td>\n",
       "      <td>19189847</td>\n",
       "      <td>21221520004</td>\n",
       "      <td>240.0</td>\n",
       "      <td>MVHALL102</td>\n",
       "    </tr>\n",
       "  </tbody>\n",
       "</table>\n",
       "<p>2 rows × 35 columns</p>\n",
       "</div>"
      ],
      "text/plain": [
       "  province   Mission ID      Service Name  Latitude permanence  \\\n",
       "0      VBR  21221520003  MV HVP VILV West            50.925277   \n",
       "1      VBR  21221520004  MV HVP HALL West            50.743200   \n",
       "\n",
       "   Longitude permanence Permanence short name Permanence long name  \\\n",
       "0              4.423057             AVVILV01A       ZW VILVOORDE 1   \n",
       "1              4.241053             AVHALL02A           ZW HALLE 2   \n",
       "\n",
       "  Vector Type                   EventType Trip EventSubType Trip  ...  \\\n",
       "0   Ambulance             P034 - SCHEDELTRAUMA                 /  ...   \n",
       "1   Ambulance  P010 - ADEMHALINGSMOEILIJKHEDEN                 /  ...   \n",
       "\n",
       "    Name destination hospital Intervention time (T1Reported)  \\\n",
       "0  HV UR VILV AZ JAN PORTAELS                           10.0   \n",
       "1      HV UR HALL AZ ST MARIA                            7.0   \n",
       "\n",
       "  Intervention time (T1Confirmed)  Departure time (T1Reported)  \\\n",
       "0                             NaN                          2.0   \n",
       "1                             NaN                          3.0   \n",
       "\n",
       "   Departure time (T1Confirmed)                        UI        ID  \\\n",
       "0                           NaN  21221520003   1969661672  19189868   \n",
       "1                           NaN  21221520004   1969661709  19189847   \n",
       "\n",
       "    MISSION_NR AMBUCODE    UNIT_ID  \n",
       "0  21221520003    240.0  MVVILV101  \n",
       "1  21221520004    240.0  MVHALL102  \n",
       "\n",
       "[2 rows x 35 columns]"
      ]
     },
     "execution_count": 36,
     "metadata": {},
     "output_type": "execute_result"
    }
   ],
   "source": [
    "cad9.head(5)"
   ]
  },
  {
   "cell_type": "markdown",
   "metadata": {},
   "source": [
    "As we can see, the column 'Eventtype Trip' will allow us to select interventions for cardiac arrests"
   ]
  },
  {
   "cell_type": "code",
   "execution_count": 37,
   "metadata": {},
   "outputs": [
    {
     "data": {
      "text/plain": [
       "Index(['province', 'Mission ID', 'Service Name', 'Latitude permanence',\n",
       "       'Longitude permanence', 'Permanence short name', 'Permanence long name',\n",
       "       'Vector Type', 'EventType Trip', 'EventSubType Trip', 'EventLevel Trip',\n",
       "       'CityName intervention', 'CitysectionName intervention',\n",
       "       'Latitude intervention', 'Longitude intervention',\n",
       "       'Province invervention', 'T0', 'T1', 'T1confirmed', 'T2', 'T3', 'T4',\n",
       "       'T5', 'T6', 'T7', 'Name destination hospital',\n",
       "       'Intervention time (T1Reported)', 'Intervention time (T1Confirmed)',\n",
       "       'Departure time (T1Reported)', 'Departure time (T1Confirmed)', 'UI',\n",
       "       'ID', 'MISSION_NR', 'AMBUCODE', 'UNIT_ID'],\n",
       "      dtype='object')"
      ]
     },
     "execution_count": 37,
     "metadata": {},
     "output_type": "execute_result"
    }
   ],
   "source": [
    "cad9.columns"
   ]
  },
  {
   "cell_type": "code",
   "execution_count": 38,
   "metadata": {},
   "outputs": [
    {
     "data": {
      "text/plain": [
       "Index(['Mission ID', 'Service Name', 'PostalCode permanence',\n",
       "       'CityName permanence', 'StreetName permanence',\n",
       "       'HouseNumber permanence', 'Latitude permanence', 'Longitude permanence',\n",
       "       'Permanence short name', 'Permanence long name', 'Vector type',\n",
       "       'EventType Firstcall', 'EventLevel Firstcall', 'EventType Trip',\n",
       "       'EventLevel Trip', 'PostalCode intervention', 'CityName intervention',\n",
       "       'Latitude intervention', 'Longitude intervention',\n",
       "       'Province intervention', 'T0', 'T1', 'T1confirmed', 'T2', 'T3', 'T4',\n",
       "       'T5', 'T6', 'T7', 'T9', 'Intervention time (T1Reported)',\n",
       "       'Intervention time (T1Confirmed)', 'Waiting time',\n",
       "       'Intervention duration', 'Departure time (T1Reported)',\n",
       "       'Departure time (T1Confirmed)', 'Unavailable time',\n",
       "       'Name destination hospital', 'PostalCode destination hospital',\n",
       "       'CityName destination hospital', 'StreetName destination hospital',\n",
       "       'HouseNumber destination hospital', 'Calculated travelTime destinatio',\n",
       "       'Calculated Distance destination', 'Number of transported persons',\n",
       "       'Abandon reason'],\n",
       "      dtype='object')"
      ]
     },
     "execution_count": 38,
     "metadata": {},
     "output_type": "execute_result"
    }
   ],
   "source": [
    "interventions1.columns"
   ]
  },
  {
   "cell_type": "code",
   "execution_count": 39,
   "metadata": {},
   "outputs": [
    {
     "data": {
      "text/plain": [
       "Index(['Mission ID', 'Service Name', 'PostalCode permanence',\n",
       "       'CityName permanence', 'StreetName permanence',\n",
       "       'HouseNumber permanence', 'Latitude permanence', 'Longitude permanence',\n",
       "       'Permanence short name', 'Permanence long name', 'Vector type',\n",
       "       'EventType Firstcall', 'EventLevel Firstcall', 'EventType Trip',\n",
       "       'EventLevel Trip', 'PostalCode intervention', 'CityName intervention',\n",
       "       'Latitude intervention', 'Longitude intervention',\n",
       "       'Province intervention', 'T0', 'T1', 'T1confirmed', 'T2', 'T3', 'T4',\n",
       "       'T5', 'T6', 'T7', 'T9', 'Intervention time (T1Reported)',\n",
       "       'Intervention time (T1Confirmed)', 'Waiting time',\n",
       "       'Intervention duration', 'Departure time (T1Reported)',\n",
       "       'Departure time (T1Confirmed)', 'Unavailable time',\n",
       "       'Name destination hospital', 'PostalCode destination hospital',\n",
       "       'CityName destination hospital', 'StreetName destination hospital',\n",
       "       'HouseNumber destination hospital', 'Calculated travelTime destinatio',\n",
       "       'Calculated Distance destination', 'Number of transported persons',\n",
       "       'Abandon reason'],\n",
       "      dtype='object')"
      ]
     },
     "execution_count": 39,
     "metadata": {},
     "output_type": "execute_result"
    }
   ],
   "source": [
    "interventions2.columns"
   ]
  },
  {
   "cell_type": "code",
   "execution_count": 40,
   "metadata": {},
   "outputs": [
    {
     "data": {
      "text/plain": [
       "Index(['Mission ID', 'Service Name', 'PostalCode permanence',\n",
       "       'CityName permanence', 'StreetName permanence',\n",
       "       'HouseNumber permanence', 'Latitude permanence', 'Longitude permanence',\n",
       "       'Permanence short name', 'Permanence long name', 'Vector type',\n",
       "       'EventType Firstcall', 'EventLevel Firstcall', 'EventType Trip',\n",
       "       'EventLevel Trip', 'PostalCode intervention', 'CityName intervention',\n",
       "       'Latitude intervention', 'Longitude intervention',\n",
       "       'Province intervention', 'T0', 'T1', 'T1confirmed', 'T2', 'T3', 'T4',\n",
       "       'T5', 'T6', 'T7', 'T9', 'Intervention time (T1Reported)',\n",
       "       'Intervention time (T1Confirmed)', 'Waiting time',\n",
       "       'Intervention duration', 'Departure time (T1Reported)',\n",
       "       'Departure time (T1Confirmed)', 'Unavailable time',\n",
       "       'Name destination hospital', 'PostalCode destination hospital',\n",
       "       'CityName destination hospital', 'StreetName destination hospital',\n",
       "       'HouseNumber destination hospital', 'Calculated travelTime destinatio',\n",
       "       'Calculated Distance destination', 'Number of transported persons',\n",
       "       'Abandon reason'],\n",
       "      dtype='object')"
      ]
     },
     "execution_count": 40,
     "metadata": {},
     "output_type": "execute_result"
    }
   ],
   "source": [
    "interventions3.columns"
   ]
  },
  {
   "cell_type": "code",
   "execution_count": 41,
   "metadata": {},
   "outputs": [
    {
     "data": {
      "text/plain": [
       "Index(['mission_id', 'service_name', 'postalcode_permanence',\n",
       "       'cityname_permanence', 'streetname_permanence',\n",
       "       'housenumber_permanence', 'latitude_permanence', 'longitude_permanence',\n",
       "       'permanence_short_name', 'permanence_long_name', 'vector_type',\n",
       "       'eventtype_firstcall', 'eventLevel_firstcall', 'eventtype_trip',\n",
       "       'eventlevel_trip', 'postalcode_intervention', 'cityname_intervention',\n",
       "       'latitude_intervention', 'longitude_intervention', 't0', 't1',\n",
       "       't1confirmed', 't2', 't3', 't4', 't5', 't6', 't7', 't9',\n",
       "       'intervention_time_t1reported', 'waiting_time', 'intervention_duration',\n",
       "       'departure_time_t1reported', 'unavailable_time',\n",
       "       'name_destination_hospital', 'postalcode_destination_hospital',\n",
       "       'cityname_destination_hospital', 'streetname_destination_hospital',\n",
       "       'housenumber_destination_hospital', 'calculated_traveltime_departure_',\n",
       "       'calculated_distance_departure_to', 'calculated_traveltime_destinatio',\n",
       "       'calculated_distance_destination_', 'number_of_transported_persons',\n",
       "       'abandon_reason'],\n",
       "      dtype='object')"
      ]
     },
     "execution_count": 41,
     "metadata": {},
     "output_type": "execute_result"
    }
   ],
   "source": [
    "interventions_bxl.columns"
   ]
  },
  {
   "cell_type": "code",
   "execution_count": 42,
   "metadata": {},
   "outputs": [
    {
     "data": {
      "text/plain": [
       "Index(['Mission ID', 'T0', 'Cityname Intervention', 'Longitude intervention',\n",
       "       'Latitude intervention', 'description_nl', 'ic_description_nl',\n",
       "       'EventType and EventLevel', 'creationtime',\n",
       "       'Number of transported persons', 'Permanence long name NL',\n",
       "       'Permanence long name FR', 'Permanence short name NL',\n",
       "       'Permanence short name FR', 'Service Name NL', 'Service Name FR',\n",
       "       'Cityname Permanence', 'Streetname Permanence',\n",
       "       'Housenumber Permanence', 'Latitude Permanence', 'Longitude Permanence',\n",
       "       'Vector type NL', 'Vector type FR', 'Name destination hospital',\n",
       "       'Cityname destination hospital', 'Streetname destination hospital',\n",
       "       'Housenumber destination hospital', 'Abandon reason NL',\n",
       "       'Abandon reason FR', 'T1', 'T2', 'T3', 'T4', 'T5', 'T6', 'T7'],\n",
       "      dtype='object')"
      ]
     },
     "execution_count": 42,
     "metadata": {},
     "output_type": "execute_result"
    }
   ],
   "source": [
    "interventions_bxl2.columns"
   ]
  },
  {
   "cell_type": "markdown",
   "metadata": {},
   "source": [
    "As we can see, all of the interventions datasets except for cad9 interventions_bxl2 have columns containing the eventtype determined when the call came in and the eventtype at the moment that the trip starts. We can thus use these columns to create a list of interventions for cardiac arrests. cad9 only has the eventtype determined when the trip starts. For interventions_bxl2, there is a column called 'EventType and Eventlevel', so we can probably use that one to isolate the cardiac arrest interventions."
   ]
  },
  {
   "cell_type": "code",
   "execution_count": 55,
   "metadata": {},
   "outputs": [
    {
     "name": "stdout",
     "output_type": "stream",
     "text": [
      "['P034 - SCHEDELTRAUMA', 'P010 - ADEMHALINGSMOEILIJKHEDEN', 'Y_TI BEVRIJDING PERSOON BEKLEMD/OPGESLOTEN+DGH', 'P020 - INTOXICATIE ALCOHOL', 'P075 - ONCOLOGISCHE PATIËNT IN BEHANDELING', 'P039 - CARDIAAL PROBLEEM (NIET PIJN OP DE BORST)', 'P011 - PIJN OP DE BORST', 'P016 - ZWANGERSCHAP-BEVALLING', 'P068 - UROGENITAAL PROBLEEM', 'P026 - ONWEL/ZIEK ZONDER DUIDELIJKE FOCUS', 'P033 - TRAUMA', 'P031 - PSYCHIATRISCH PROBLEEM', 'P009 - SUIKERZIEKTE - DIABETES', 'P013 - NIET-TRAUMATISCHE RUGPIJN', 'P001 - VERKEERSONGEVAL', 'P080 - COVID-19', 'P015 - EPILEPSIE - STUIPEN', 'P059 - DUIZELIGHEID - ONPASSELIJK', 'P019 - BEWUSTELOOS - COMA - SYNCOPE', 'P012 - NIET-TRAUMATISCHE BUIKLAST', 'P099 - INTERHOSPITAALTRANSPORT', 'P004 - CVA-TIA', 'P007 - VAL VAN GROTE HOOGTE (>3 METER)', 'P032 - ALLERGISCHE REACTIE', 'P061 - LIDMAAT/BEWEGINGSSTELSEL NIET TRAUMA', 'P005 - WONDE DOOR WAPEN', 'P066 - POSTOP PROBLEEM', 'P022 - INTOXICATIE MEDICATIE', 'P067 - SOCIAAL PROBLEEM', 'P017 - NIET-TRAUMATISCH BLOEDVERLIES', 'P035 - KOORTSSTUIPEN KIND <7JAAR', 'P018 - LANGDURIGE IMMOBILISATIE - VERPLETTERING', 'Y_TI BEVRIJDING PERSOON BEKLEMD IN VOERTUIG+DGH', 'P006 - BRANDWONDE', 'P069 - WONDEN', 'P090 - TEST MED', 'P002 - AGRESSIE - VECHTPARTIJ - VERKRACHTING', 'P098 - COLLOCATIE (NIET GEPLAND)', 'P003 - HARTSTILSTAND - DOOD - OVERLEDEN', 'P064 - NEUS-KEEL-OOR EN TANDPROBLEEM', 'P074 - PALLIATIEVE PATIËNT', 'P027 - BIJTWONDE', 'P025 - NIET-TRAUMATISCHE HOOFDPIJN', 'P021 - INTOXICATIE DRUGS', 'P030 - VERHANGING EN WURGING', 'Y_TI PERSOON IN BIJZONDER GEVAAR+DGH', 'P029 - OBSTRUCTIE VAN DE LUCHTWEGEN', 'Y_SI TREIN/TRAM ONGEVAL+DGH', 'P023 - INTOXICATIE HUISHOUDELIJKE, LANDBOUW OF INDUSTRIËLE PRODUCTEN', 'P063 - OOGPROBLEMEN', 'Y_SI GEVONDEN MUNITIE+DGH', 'P071 - ZIEK KIND < 15 JAAR MET BUIKLAST', 'P097 - COLLOCATIE (GEPLAND)', 'P008 - PATIËNT MET DEFIBRILLATOR OF PACEMAKER', 'P038 - PATIËNT BEANTWOORDT DE OPROEP NIET', 'P060 - HUIDPROBLEEM', 'Y_GS INCIDENT GEVAARLIJKE STOFFEN+DGH', 'Y_BR BRAND GEBOUW+DGH', 'Y_TEST+DGH', 'P072 - ZIEK KIND < 15 JAAR MET KOORTS', 'P091 - VOORALARM MIP', 'P073 - ZIEK KIND < 15 JAAR MET LUCHTWEGINFECTIE', 'Y_TI DUIKERS+DGH', 'P014 - ELEKTROCUTIE', 'P036 - HITTEBEROERTE - ZONNESLAG', 'P024 - CO-INTOXICATIE', 'P070 - ZIEKE BABY < 3 MAAND (ZUIGELING)', None, 'Y_BR BRAND INDUSTRIE+DGH', 'Y_SI LUHA URGENTIE+DGH', 'Y_BR BRAND VOERTUIG+DGH', 'Y_BR BRAND GEUR/CONTROLE +DGH', '112', 'Z_SI TREIN/TRAM ONGEVAL', 'Y_TI INSTORTINGSGEVAAR+DGH', 'Y_GS EXPLOSIE+DGH', 'ZZ_POLITIE INTERVENTIE', 'P092 - MIP', 'Y_BR AUTOMATISCH BRANDALARM+DGH', 'Y_BR BRAND BUITEN+DGH', 'Y_GS CO-METING+DGH', 'Z_LO BIJSTAND ZIEKENWAGEN', 'Y_GS GASGEUR/GASLEK+DGH', 'P096 - BUITENDIENSTSTELLING', 'Y_LO BIJSTAND ZIEKENWAGEN+DGH', 'Z_LO TENT', 'Y_TI ALGEMEEN+DGH', 'Y_GS GEURHINDER+DGH', 'Y_SI LUHA CRASH OPCO+DGH', 'ALGEMENE INFORMATIE', 'P028 - VERDRINKING - DUIKONGEVAL', 'Z_TI BEVRIJDING PERSOON BEKLEMD IN VOERTUIG', 'Y_BR BRAND GEBOUW SCHOUW+DGH', 'PERSONEN Noodsituatie', 'Y_KENNISGEVING+DGH', 'P065 - PLOTSE DOOFHEID OF OORSUIZEN', 'Z_TI BEVRIJDING PERSOON BEKLEMD/OPGESLOTEN', 'P026 - ONWEL ZONDER DUIDELIJKE REDEN', 'P061 - LIDMAAT KOUD OF WARM', 'Z_TI ALGEMEEN', 'Y_SI REDDING BELGISCHE KUST+DGH', 'Z_TI PERSOON IN BIJZONDER GEVAAR', 'TEST', 'P095 - PREVENTIEVE ZIEKENWAGEN', 'Y_SI VLIEGTUIG NEERGESTORT+DGH', 'Y_LO BIJSTAND ZIEKENWAGEN +DGH', 'Y_BR BRAND TREIN/TRAM+DGH', 'Y_GS ALGEMEEN+DGH', 'Y_BR BRAND ALGEMEEN+DGH', 'Z_TI INSTORTINGSGEVAAR', 'Z_BR BRAND VOERTUIG', 'Z_TI REINIGEN WEGDEK', 'Z_LO VERSTERKING', 'Y_BR BRAND BESLOTEN PLAATS+DGH', 'Z_TEST', 'Y_BR BRAND VAARTUIG +DGH', 'Y_TI PERSOON BEKLEMD/OPGESLOTEN+DGH', 'Y_TI PERSOON BEKLEMD IN VOERTUIG+DGH', 'Y_LO BIJSTAND ZIEKENWAGEN + DGH', 'Y_TI REDDING TE WATER/DUIKERS+DGH', 'VERKEERDE MANIPULATIE', 'KWAADWILLIGE OPROEP', 'Z_TI PERSOON BEKLEMD/OPGESLOTEN', 'Y_SI LUCHTVAARTONGEVAL + DGH', 'Y_SI VERMOEDEN TERRORISME + DGH', 'Z_SI VERMOEDEN TERRORISME', 'P026 - ONWEL ZONDER DUIDELIJKE FOCUS', 'P061 - LIDMAAT - BEWEGINGSSTELSEL (NIET-TRAUMA)', 'Y_GS EXPLOSIE RISICO+DGH', 'Y_SI SCHEEPVAARTONGEVAL+DGH', 'PERSONNES en danger / dans le besoin']\n"
     ]
    }
   ],
   "source": [
    "print(cad9['EventType Trip'].unique().tolist())"
   ]
  },
  {
   "cell_type": "markdown",
   "metadata": {},
   "source": [
    "We can see that the eventtype corresponding to a cardiac arrest is 'P003 - HARTSTILSTAND - DOOD - OVERLEDEN' (hartstilstand is dutch for cardiac arrest)\n"
   ]
  },
  {
   "cell_type": "code",
   "execution_count": 57,
   "metadata": {},
   "outputs": [
    {
     "name": "stdout",
     "output_type": "stream",
     "text": [
      "['P020 - Intoxication alcohol', 'P068 - Urogenital problem', 'P033 - Trauma', 'P022 - Intoxication medication', 'P026 - Unclear problem', 'P031 - Psychiatric problem', 'P065 - Sudden deafness or ringing in the ears', 'P009 - Diabetes', 'FI (1.3.0) fire building', 'P030 - Hanging and strangulation', 'P011 - Chest pain', 'P012 - Non-traumatic abdominal pain', 'P010 - Respiratory problems', 'P099 - Interhospital transport', 'P017 - Non-traumatic bleeding', 'P071 - Sick child < 15 years with abdominal pain', 'P096 - Out of service', 'P039 - Cardiac problem (other than thoracic pain)', 'P019 - Unconscious - syncope', 'P003 - Cardiac arrest', 'P001 - Traffic accident', 'P023 - Intoxication (household, agricultural, industrial)', 'P015 - Epilepsy - convulsions', 'P013 - Non-traumatic back pain', 'P004 - Stroke', 'P034 - Skull trauma', 'P005 - Wounded by weapon', 'P066 - Post-operative problem', 'P059 - Dizziness - Nausea', 'P061 - Limb hot or cold', 'P007 - Fall from great height (> 3 meters)', 'P035 - Convulsions child < 7 years old', 'P075 - Cancer patient', 'P014 - Electrocution - electrification', 'P064 - Nose-throat-ear and dental problem', 'P097 - Collocation (planned)', 'P006 - Burns', 'P060 - Skin problem', 'TI (3.1.2) free trapped person urgent', 'P025 - Non-traumatic headache', 'P032 - Allergic reactions', 'P016 - Pregnancy - Birth', 'P029 - Obstruction of the respiratory tract', 'P002 - Agression - fight - rape', 'P069 - Wounds', 'P021 - Intoxication drugs', 'P018 - Long-term immobilisation - crushing of body and limbs', 'P067 - Social problem', 'P090 - Test MED', 'P038 - Person does not answer the call', 'P008 - Patient with defibrillator - pacemaker', 'TI (3.2.0) extrication from vehicle', 'HG (2.1.1) gas odour', 'P080 - COVID-19', 'P074 - Palliative patient', 'Police (Alert)', 'P073 - Sick child < 15 years with respiratory infection', 'P063 - Eye problems', 'P098 - Collocation (unplanned)', 'TI (3.1.4) height/depth rescue', 'P027 - Animal bite', 'TI (3.1.3) extrication trapped person', 'P036 - Heat stroke - solar stroke', 'TI (3.3.3) rescue from danger to fall/jump - hard', 'P072 - Sick child < 15 years with fever', 'FI (1.9.1) fire vehicle small', 'P095 - Preventive ambulance', 'TI (3.1.1) free trapped person lift', 'FI (1.5.0) fire odour/check', 'TI (3.3.2) CO intoxication', 'FI (1.7.0) fire industry', 'TI (3.5.1) risk of building collapse', 'FI (1.2.1) fire outdoor small', 'TI (3.9.0) water problems/pumping', 'P070 - Sick baby < 3 months', 'TI (3.10.0) clean up road', 'TI (3.4.0) water rescue', 'P028 - Drowning - diving accident', 'HG (2.7.0) hazardous goods incident', 'TI (3.3.4) rescue from danger to fall/jump - water', 'FI (1.0.0) fire general', 'FI (1.1.0) automatic fire alarm', 'SI (4.3.1) shipping accident', 'HG (2.1.2) gas leak', 'HG (2.4.0) CO measurement', 'P024 - CO intoxication', 'SI (4.1.1) bomb threat/suspicious package with departure', 'FI (1.9.2) fire vehicle large', 'Police (Info)', 'FI (1.10.0) fire ship', 'TI (3.8.2) clear trees from the road', 'TI (3.5.2) risk of element collapse on ground', 'SI (4.2.1) aircraft in distress', 'LO (5.1.2) assistance ambulance ladder', 'HG (2.5.0) annoying odours', 'HG (2.3.0) explosion', 'FI (1.4.0) fire confined space', 'FI (1.6.2) fire grass/forest/brush expanded', 'TI (3.8.1) clear the road', 'Test (9.1.0)', 'TI (3.3.1) rescue electrocution/electrification', 'P077 - Requisition police alcohol drugs', 'TI (3.3.5) hanging rescue', 'FI (1.2.2) fire outdoor large', 'TI (3.4.1) dredging/hauling/floating', 'FI (1.3.1) fire high voltage', 'Police (Prio)', 'HG (2.2.0) explosion risk', 'SI (4.1.2) bomb threat/suspicious package without departure', 'FI (1.8.0) fire building chimney', 'SI (4.6.1) train/tram accident', 'TI (3.6.2) large animal in dange', 'LO (5.0.0) general', 'LO (5.1.1) assistance ambulance manpower', 'P091 - MIP pre-alert', 'TI (3.1.5) rescue under debris', 'TI (3.1.6) underground rescue/speleology', 'Notification (9.3.0)', 'TI (3.0.0) general', 'TI (3.5.3) risk of element collapse high height', 'LO (5.5.4) reinforcement extrication', 'LO (5.5.17) reinforcement safety precautions', None, 'LO (5.5.0) reinforcement other', 'TI (3.7.1) wasps', '112-Multi', 'SI (4.2.2) crashed aircraft']\n"
     ]
    }
   ],
   "source": [
    "print(interventions1['EventType Firstcall'].unique().tolist())"
   ]
  },
  {
   "cell_type": "markdown",
   "metadata": {},
   "source": [
    "For the interventions1 dataset, we see that the eventtype corresponding to a cardiac arrest is 'P003 - Cardiac arrest'"
   ]
  },
  {
   "cell_type": "code",
   "execution_count": 60,
   "metadata": {},
   "outputs": [
    {
     "name": "stdout",
     "output_type": "stream",
     "text": [
      "['P010 - Respiratory problems', 'P069 - Wounds', 'P026 - Unclear problem', 'P096 - Out of service', 'P013 - Non-traumatic back pain', 'P039 - Cardiac problem (other than thoracic pain)', 'P012 - Non-traumatic abdominal pain', 'P033 - Trauma', 'P017 - Non-traumatic bleeding', 'P080 - COVID-19', 'P075 - Cancer patient', 'P061 - Limb hot or cold', 'P068 - Urogenital problem', 'P011 - Chest pain', 'P059 - Dizziness - Nausea', 'P016 - Pregnancy - Birth', 'P025 - Non-traumatic headache', 'P004 - Stroke', 'P067 - Social problem', 'P038 - Person does not answer the call', 'P034 - Skull trauma', 'P015 - Epilepsy - convulsions', 'P020 - Intoxication alcohol', 'TI (3.1.2) free trapped person urgent', 'P031 - Psychiatric problem', 'P019 - Unconscious - syncope', 'P022 - Intoxication medication', 'P009 - Diabetes', 'P032 - Allergic reactions', 'P036 - Heat stroke - solar stroke', 'P001 - Traffic accident', 'P006 - Burns', 'P002 - Agression - fight - rape', 'P074 - Palliative patient', 'P018 - Long-term immobilisation - crushing of body and limbs', 'P003 - Cardiac arrest', 'P099 - Interhospital transport', 'P007 - Fall from great height (> 3 meters)', 'P070 - Sick baby < 3 months', 'P072 - Sick child < 15 years with fever', 'P097 - Collocation (planned)', 'P027 - Animal bite', 'P005 - Wounded by weapon', 'P023 - Intoxication (household, agricultural, industrial)', 'P030 - Hanging and strangulation', 'P021 - Intoxication drugs', 'FI (1.3.0) fire building', 'FI (1.10.0) fire ship', 'P066 - Post-operative problem', 'FI (1.0.0) fire general', 'P029 - Obstruction of the respiratory tract', 'Police (Alert)', 'P060 - Skin problem', 'P090 - Test MED', 'TI (3.3.4) rescue from danger to fall/jump - water', 'P008 - Patient with defibrillator - pacemaker', 'TI (3.1.1) free trapped person lift', 'P064 - Nose-throat-ear and dental problem', 'P028 - Drowning - diving accident', 'TI (3.3.3) rescue from danger to fall/jump - hard', 'HG (2.1.1) gas odour', 'P035 - Convulsions child < 7 years old', 'P098 - Collocation (unplanned)', 'P063 - Eye problems', 'SI (4.3.2) shipping accident hazardous goods', 'LO (5.1.1) assistance ambulance manpower', 'FI (1.2.1) fire outdoor small', 'TI (3.1.3) extrication trapped person', 'FI (1.9.1) fire vehicle small', 'P071 - Sick child < 15 years with abdominal pain', 'FI (1.9.2) fire vehicle large', 'P073 - Sick child < 15 years with respiratory infection', 'TI (3.4.0) water rescue', 'TI (3.3.5) hanging rescue', 'P077 - Requisition police alcohol drugs', 'TI (3.10.0) clean up road', 'P095 - Preventive ambulance', 'LO (5.0.0) general', 'Police (Prio)', 'FI (1.1.0) automatic fire alarm', 'TI (3.1.4) height/depth rescue', 'HG (2.0.0) general', 'TI (3.2.0) extrication from vehicle', 'P014 - Electrocution - electrification', 'SI (4.2.2) crashed aircraft', 'HG (2.1.2) gas leak', 'FI (1.6.1) fire grass/forest/brush restricted', 'FI (1.5.0) fire odour/check', 'LO (5.5.9) reinforcement diving team', 'SI (4.6.1) train/tram accident', 'TI (3.7.1) wasps', 'FI (1.8.0) fire building chimney', 'TI (3.0.0) general', 'LO (5.5.2) reinforcement fire truck ladder', 'FI (1.7.0) fire industry', 'P024 - CO intoxication', 'TI (3.5.3) risk of element collapse high height', 'HG (2.4.0) CO measurement', 'LO (5.1.2) assistance ambulance ladder', 'TI (3.1.5) rescue under debris', 'TI (3.9.0) water problems/pumping', 'HG (2.3.0) explosion', 'SI (4.2.1) aircraft in distress', 'TI (3.4.1) dredging/hauling/floating', 'Test (9.1.0)', 'TI (3.5.2) risk of element collapse on ground', 'Police (Info)', 'HG (2.5.0) annoying odours', 'FI (1.2.2) fire outdoor large', 'TI (3.3.2) CO intoxication', 'HG (2.2.0) explosion risk', 'LO (5.5.17) reinforcement safety precautions', 'TI (3.5.1) risk of building collapse', None, 'CC (0.3.3) Contact water company', 'HG (2.7.0) hazardous goods incident', 'TI (3.3.1) rescue electrocution/electrification', 'TI (3.8.1) clear the road', 'TI (3.8.2) clear trees from the road', 'P076 - Communication with medical guard / doctor', 'FI (1.4.0) fire confined space', 'P065 - Sudden deafness or ringing in the ears', 'CC (0.3.0) Contact electricity company', 'TI (3.6.1) small animal in danger', 'CA (0.4.0) Contact mayor', 'P091 - MIP pre-alert']\n"
     ]
    }
   ],
   "source": [
    "print(interventions2['EventType Firstcall'].unique().tolist())"
   ]
  },
  {
   "cell_type": "code",
   "execution_count": 61,
   "metadata": {},
   "outputs": [
    {
     "name": "stdout",
     "output_type": "stream",
     "text": [
      "['P067 - Social problem', 'P026 - Unclear problem', 'P031 - Psychiatric problem', 'P034 - Skull trauma', 'P066 - Post-operative problem', 'P033 - Trauma', 'P013 - Non-traumatic back pain', 'P020 - Intoxication alcohol', 'P011 - Chest pain', 'P005 - Wounded by weapon', 'P010 - Respiratory problems', 'P002 - Agression - fight - rape', 'P096 - Out of service', 'P019 - Unconscious - syncope', 'P003 - Cardiac arrest', 'P059 - Dizziness - Nausea', 'P001 - Traffic accident', 'P017 - Non-traumatic bleeding', 'P075 - Cancer patient', 'P022 - Intoxication medication', 'P061 - Limb hot or cold', 'P038 - Person does not answer the call', 'P012 - Non-traumatic abdominal pain', 'P039 - Cardiac problem (other than thoracic pain)', 'P025 - Non-traumatic headache', 'P080 - COVID-19', 'P018 - Long-term immobilisation - crushing of body and limbs', 'P016 - Pregnancy - Birth', 'P004 - Stroke', 'P099 - Interhospital transport', 'P015 - Epilepsy - convulsions', 'P098 - Collocation (unplanned)', 'P009 - Diabetes', 'P069 - Wounds', 'P068 - Urogenital problem', 'P029 - Obstruction of the respiratory tract', 'P073 - Sick child < 15 years with respiratory infection', 'FI (1.3.0) fire building', 'P072 - Sick child < 15 years with fever', 'P071 - Sick child < 15 years with abdominal pain', 'P014 - Electrocution - electrification', 'P007 - Fall from great height (> 3 meters)', 'P027 - Animal bite', 'P032 - Allergic reactions', 'P021 - Intoxication drugs', 'P074 - Palliative patient', 'P035 - Convulsions child < 7 years old', 'P064 - Nose-throat-ear and dental problem', 'P006 - Burns', 'TI (3.4.0) water rescue', 'P060 - Skin problem', 'P090 - Test MED', 'P008 - Patient with defibrillator - pacemaker', 'P063 - Eye problems', 'P030 - Hanging and strangulation', 'Police (Alert)', 'TI (3.1.2) free trapped person urgent', 'P097 - Collocation (planned)', 'FI (1.1.0) automatic fire alarm', 'P023 - Intoxication (household, agricultural, industrial)', 'P028 - Drowning - diving accident', 'HG (2.7.0) hazardous goods incident', 'P070 - Sick baby < 3 months', 'LO (5.5.17) reinforcement safety precautions', 'FI (1.8.0) fire building chimney', 'TI (3.3.3) rescue from danger to fall/jump - hard', 'TI (3.5.1) risk of building collapse', 'TI (3.3.2) CO intoxication', 'HG (2.1.1) gas odour', 'TI (3.3.4) rescue from danger to fall/jump - water', 'Police (Prio)', 'P024 - CO intoxication', 'FI (1.9.2) fire vehicle large', 'TI (3.1.4) height/depth rescue', 'TI (3.1.6) underground rescue/speleology', 'FI (1.5.0) fire odour/check', 'TI (3.1.3) extrication trapped person', 'TI (3.2.0) extrication from vehicle', 'LO (5.5.9) reinforcement diving team', 'P065 - Sudden deafness or ringing in the ears', 'TI (3.10.0) clean up road', 'HG (2.5.0) annoying odours', 'TI (3.1.1) free trapped person lift', 'HG (2.1.2) gas leak', 'HG (2.4.0) CO measurement', 'FI (1.2.1) fire outdoor small', 'FI (1.7.0) fire industry', 'HG (2.3.0) explosion', 'FI (1.9.1) fire vehicle small', None, 'TI (3.4.1) dredging/hauling/floating', 'TI (3.8.2) clear trees from the road', 'LO (5.1.1) assistance ambulance manpower', 'FI (1.0.0) fire general', 'TI (3.8.1) clear the road', 'Notification (9.3.0)', 'TI (3.5.3) risk of element collapse high height', 'FI (1.4.0) fire confined space', 'P036 - Heat stroke - solar stroke', 'FI (1.6.1) fire grass/forest/brush restricted', 'P077 - Requisition police alcohol drugs', 'SI (4.6.1) train/tram accident', 'TI (3.9.0) water problems/pumping', 'Test (9.1.0)', 'FI (1.6.2) fire grass/forest/brush expanded', 'FI (1.2.2) fire outdoor large', 'P095 - Preventive ambulance', 'Police (Info)', 'P091 - MIP pre-alert', 'TI (3.3.5) hanging rescue', 'FI (1.10.0) fire ship', 'SI (4.2.2) crashed aircraft', 'TI (3.1.5) rescue under debris', 'HG (2.2.0) explosion risk', 'LO (5.0.0) general', 'DP (0.1.6) Operational coordination', 'TI (3.0.0) general', 'FI (1.3.1) fire high voltage', 'AD (0.2.0) Activation defibrilator', 'LO (5.1.3) assistance ambulance helicopter', 'P076 - Communication with medical guard / doctor', 'TI (3.7.1) wasps', 'LO (5.5.7) reinforcement GRIMP/REDteam', 'SI (4.5.0) ammunition discovery', 'LO (5.5.0) reinforcement other', 'SI (4.1.2) bomb threat/suspicious package without departure', 'CC (0.3.0) Contact electricity company']\n"
     ]
    }
   ],
   "source": [
    "print(interventions3['EventType Firstcall'].unique().tolist())"
   ]
  },
  {
   "cell_type": "code",
   "execution_count": 63,
   "metadata": {},
   "outputs": [
    {
     "name": "stdout",
     "output_type": "stream",
     "text": [
      "['P033 - Trauma', 'P059 - Dizziness - Nausea', 'P019 - Unconscious - syncope', 'P020 - Intoxication alcohol', 'P002 - Agression - fight - rape', 'TI (3.3.3) rescue from danger to fall/jump - hard', 'P074 - Palliative patient', 'P015 - Epilepsy - convulsions', 'TI (3.1.2) free trapped person urgent', 'P097 - Collocation (planned)', 'P013 - Non-traumatic back pain', 'P068 - Urogenital problem', 'P011 - Chest pain', 'P012 - Non-traumatic abdominal pain', 'P026 - Unclear problem', 'P001 - Traffic accident', 'P031 - Psychiatric problem', 'P036 - Heat stroke - solar stroke', 'P075 - Cancer patient', 'P010 - Respiratory problems', 'P009 - Diabetes', 'P005 - Wounded by weapon', 'P069 - Wounds', 'P032 - Allergic reactions', 'P004 - Stroke', 'P018 - Long-term immobilisation - crushing of body and limbs', 'P039 - Cardiac problem (other than thoracic pain)', 'FI (1.3.0) fire building', 'P066 - Post-operative problem', 'P061 - Limb hot or cold', 'HG (2.1.1) gas odour', 'P003 - Cardiac arrest', 'P022 - Intoxication medication', 'P034 - Skull trauma', 'LO (5.5.2) reinforcement fire truck ladder', 'TI (3.2.0) extrication from vehicle', 'P016 - Pregnancy - Birth', 'P099 - Interhospital transport', 'P008 - Patient with defibrillator - pacemaker', 'P017 - Non-traumatic bleeding', 'P080 - COVID-19', 'P021 - Intoxication drugs', 'P038 - Person does not answer the call', 'P086 - vluchelingen UKR', 'P071 - Sick child < 15 years with abdominal pain', 'P098 - Collocation (unplanned)', 'P029 - Obstruction of the respiratory tract', 'P070 - Sick baby < 3 months', 'P014 - Electrocution - electrification', 'P000 - ARCA DEA', 'TI (3.1.1) free trapped person lift', 'P006 - Burns', 'TI (3.4.0) water rescue', 'P007 - Fall from great height (>3 meters)', 'P023 - Intoxication (household, agricultural, industrial)', 'Police', 'P025 - Non-traumatic headache', 'TI B(3.9.0) Water problems/pumping building', 'TI (3.3.5) hanging rescue', 'P035 - Convulsions child <7 years old', 'P072 - Sick child < 15 years with fever', 'HG (2.1.2) gas leak', 'P027 - Animal bite', 'P067 - Social problem', 'P064 - Nose-throat-ear and dental problem', 'FI B(1.2.3) fire outdoor small day', 'TI (3.4.1) dredging/hauling/floating', 'TI (3.1.3) extrication trapped person', 'P063 - Eye problems', 'P073 - Sick child < 15 years with respiratory infection', 'OOS - Placing out of service', 'FI (1.1.0) automatic fire alarm', 'P060 - Skin problem', 'Test', 'FI B(1.3.3) fire building IFDP', 'P030 - Hanging and strangulation', 'TI B(3.1.11) extrication trapped person t m t underground', 'FI B(1.2.1) fire outdoor small', 'P024 - CO intoxication', 'FI (1.11.0) fire train/tram/metro', 'HG (2.3.0) explosion', 'FI (1.4.0) fire confined space', 'LO (5.1.1) assistance ambulance ladder', 'FI (1.5.0) fire odour/check', 'TI (3.0.0) general', 'TI B(3.1.10) extrication trapped person t m t above', 'HG (2.0.0) general', 'FI (1.0.0) fire general', 'TI (3.3.2) CO intoxication', 'HG (2.5.0) annoying odours', 'FI B(1.4.2) fire confined space tunnel', 'TI (3.6.2) large animal in dange', 'FI B(1.4.3) fire confined space t t m', 'HG (2.7.0) hazardous goods incident', 'TI (3.5.2) risk of element collapse on ground', 'HG (2.2.0) explosion risk', 'TI (3.1.4) height/depth rescue', 'FI B(1.4.1) fire confined space IFDP', 'TI (3.3.4) rescue from danger to fall/jump - water', 'P065 - Sudden deafness or ringing in the ears', 'TI (3.10.0) clean up road', 'FI B(1.2.4) fire outdoor small night', 'LO (5.1.0) assistance ambulance manpower', 'LO (5.5.0) reinforcement topographic visit', 'LO (5.5.13) reinforcement measurement team', 'FI (1.9.1) fire vehicle small', 'TI (3.5.1) risk of building collapse', 'FI B(1.1.0) automatic fire alarm IFDP', 'P076 - Communication with medical guard / doctor', 'P095 - Preventive ambulance', 'TI (3.8.2) clear trees from the road', 'P028 - Drowning - diving accident', 'HG (2.4.0) CO measurement', 'TI B(3.1.8) height/depth rescue RISC', 'TI (3.3.1) rescue electrocution/electrification', 'FI B(1.4.4) fire confined space t t m confirmed', 'SI B(4.2.4) Aircraft in distress Full EM type 4', 'TI (3.5.3) risk of element collapse high height', 'HG (2.6.0) environmental pollution', 'P092 - MIP', 'SI (4.5.0) ammunition discovery', 'LO (5.5.1) reinforcement fire truck pump', 'TI B(3.1.12) extrication trapped person truck/bus', 'HG B(2.7.1) hazardous goods incident ADR', 'TI (3.6.3) animal in the water', 'TI (3.9.0) water problems/pumping', 'FI B(1.2.2) fire outdoor large', 'TI (3.6.1) small animal in danger', 'FI (1.8.0) fire building chimney', 'SI (4.6.0) train/tram/metro accident', 'TI (3.1.5) rescue under debris', 'LO (5.5.14) reinforcement railroute', 'LO (5.5.16) reinforcement Casualty Extraction Team', 'SI B(4.2.3) Aircraft in distress Full EM type 3', 'TI B(3.2.1) extrication from vehicle truck bus', 'FI (1.3.1) fire high voltage', 'SI B(4.2.5) Aircraft in distress Full EM type 5', 'FI (1.9.2) fire vehicle large', 'HG  B(2.3.1) explosion IFDP - terror', 'LO (5.5.0) reinforcement other', 'P091 - MIP pre-alert', 'SI (4.4.0) underground pipeline rupture', 'SI (4.3.0) shipping accident']\n"
     ]
    }
   ],
   "source": [
    "print(interventions_bxl['eventtype_firstcall'].unique().tolist())"
   ]
  },
  {
   "cell_type": "markdown",
   "metadata": {},
   "source": [
    "As we can see, the other datasets also have 'P003 - Cardiac arrest' to identify cardiac arrests"
   ]
  },
  {
   "cell_type": "code",
   "execution_count": 65,
   "metadata": {},
   "outputs": [
    {
     "name": "stdout",
     "output_type": "stream",
     "text": [
      "0                                    P033 N05 - TRAUMA\n",
      "1                       P032 N05 - ALLERGISCHE REACTIE\n",
      "2                  P010 N01 - ADEMHALINGSMOEILIJKHEDEN\n",
      "3                  P010 N01 - ADEMHALINGSMOEILIJKHEDEN\n",
      "4    P039 N05 - CARDIAAL PROBLEEM (ANDERE DAN PIJN ...\n",
      "Name: EventType and EventLevel, dtype: object\n"
     ]
    }
   ],
   "source": [
    "print(interventions_bxl2['EventType and EventLevel'].head(5))"
   ]
  },
  {
   "cell_type": "markdown",
   "metadata": {},
   "source": [
    "For the interventions_bxl2 dataset, the eventtype and eventlevel have been combined, but it uses the same P... codes to identify different event types."
   ]
  },
  {
   "cell_type": "markdown",
   "metadata": {},
   "source": [
    "We will now select only the interventions for cardiac arrests"
   ]
  },
  {
   "cell_type": "code",
   "execution_count": 82,
   "metadata": {},
   "outputs": [],
   "source": [
    "cad9_cardiac = cad9[cad9['EventType Trip'].str.contains('P003') == True]\n",
    "interventions1_cardiac = interventions1[interventions1['EventType Trip'].str.contains('P003') == True]\n",
    "interventions2_cardiac = interventions2[interventions2['EventType Trip'].str.contains('P003') == True]\n",
    "interventions3_cardiac = interventions3[interventions3['EventType Trip'].str.contains('P003') == True]\n",
    "interventions_bxl_cardiac = interventions_bxl[interventions_bxl['eventtype_trip'].str.contains('P003') == True]\n",
    "interventions_bxl2_cardiac = interventions_bxl2[interventions_bxl2['EventType and EventLevel'].str.contains('P003') == True]"
   ]
  },
  {
   "cell_type": "code",
   "execution_count": 84,
   "metadata": {},
   "outputs": [
    {
     "data": {
      "text/html": [
       "<div>\n",
       "<style scoped>\n",
       "    .dataframe tbody tr th:only-of-type {\n",
       "        vertical-align: middle;\n",
       "    }\n",
       "\n",
       "    .dataframe tbody tr th {\n",
       "        vertical-align: top;\n",
       "    }\n",
       "\n",
       "    .dataframe thead th {\n",
       "        text-align: right;\n",
       "    }\n",
       "</style>\n",
       "<table border=\"1\" class=\"dataframe\">\n",
       "  <thead>\n",
       "    <tr style=\"text-align: right;\">\n",
       "      <th></th>\n",
       "      <th>Mission ID</th>\n",
       "      <th>T0</th>\n",
       "      <th>Cityname Intervention</th>\n",
       "      <th>Longitude intervention</th>\n",
       "      <th>Latitude intervention</th>\n",
       "      <th>description_nl</th>\n",
       "      <th>ic_description_nl</th>\n",
       "      <th>EventType and EventLevel</th>\n",
       "      <th>creationtime</th>\n",
       "      <th>Number of transported persons</th>\n",
       "      <th>Permanence long name NL</th>\n",
       "      <th>Permanence long name FR</th>\n",
       "      <th>Permanence short name NL</th>\n",
       "      <th>Permanence short name FR</th>\n",
       "      <th>Service Name NL</th>\n",
       "      <th>Service Name FR</th>\n",
       "      <th>Cityname Permanence</th>\n",
       "      <th>Streetname Permanence</th>\n",
       "      <th>Housenumber Permanence</th>\n",
       "      <th>Latitude Permanence</th>\n",
       "      <th>Longitude Permanence</th>\n",
       "      <th>Vector type NL</th>\n",
       "      <th>Vector type FR</th>\n",
       "      <th>Name destination hospital</th>\n",
       "      <th>Cityname destination hospital</th>\n",
       "      <th>Streetname destination hospital</th>\n",
       "      <th>Housenumber destination hospital</th>\n",
       "      <th>Abandon reason NL</th>\n",
       "      <th>Abandon reason FR</th>\n",
       "      <th>T1</th>\n",
       "      <th>T2</th>\n",
       "      <th>T3</th>\n",
       "      <th>T4</th>\n",
       "      <th>T5</th>\n",
       "      <th>T6</th>\n",
       "      <th>T7</th>\n",
       "    </tr>\n",
       "  </thead>\n",
       "  <tbody>\n",
       "    <tr>\n",
       "      <th>808</th>\n",
       "      <td>20221530374</td>\n",
       "      <td>02JUN22:20:11:21</td>\n",
       "      <td>1030 schaerbeek (schaerbeek)</td>\n",
       "      <td>4.398207e+10</td>\n",
       "      <td>5.084949e+10</td>\n",
       "      <td>Nieuwe melding</td>\n",
       "      <td>Medisch</td>\n",
       "      <td>P003  N01 - HARTSTILSTAND - DOOD - OVERLEDEN</td>\n",
       "      <td>02JUN22:20:14:34</td>\n",
       "      <td>NaN</td>\n",
       "      <td>ZW CITE2</td>\n",
       "      <td>AMB CITE2</td>\n",
       "      <td>A-CIT2</td>\n",
       "      <td>A-CIT2</td>\n",
       "      <td>CITE (MED)</td>\n",
       "      <td>CITE (MED)</td>\n",
       "      <td>1000 brussel (brussel)</td>\n",
       "      <td>rue vesale;vesaliusstraat</td>\n",
       "      <td>NaN</td>\n",
       "      <td>5.085138e+10</td>\n",
       "      <td>4.364098e+10</td>\n",
       "      <td>AMB</td>\n",
       "      <td>AMB</td>\n",
       "      <td>None</td>\n",
       "      <td>None</td>\n",
       "      <td>None</td>\n",
       "      <td>None</td>\n",
       "      <td>Dood Ter Plaatse</td>\n",
       "      <td>DCD</td>\n",
       "      <td>02JUN22:20:14:55</td>\n",
       "      <td>02JUN22:20:16:53</td>\n",
       "      <td>None</td>\n",
       "      <td>None</td>\n",
       "      <td>None</td>\n",
       "      <td>02JUN22:20:27:42</td>\n",
       "      <td>02JUN22:20:50:13</td>\n",
       "    </tr>\n",
       "    <tr>\n",
       "      <th>809</th>\n",
       "      <td>20221530374</td>\n",
       "      <td>02JUN22:20:11:21</td>\n",
       "      <td>1030 schaerbeek (schaerbeek)</td>\n",
       "      <td>4.398207e+10</td>\n",
       "      <td>5.084949e+10</td>\n",
       "      <td>Nieuwe melding</td>\n",
       "      <td>Medisch</td>\n",
       "      <td>P003  N01 - HARTSTILSTAND - DOOD - OVERLEDEN</td>\n",
       "      <td>02JUN22:20:14:34</td>\n",
       "      <td>NaN</td>\n",
       "      <td>MUG SCHAARBEEK1</td>\n",
       "      <td>SMUR SCHAERBEEK1</td>\n",
       "      <td>M-SCH1</td>\n",
       "      <td>M-SCH1</td>\n",
       "      <td>Schaerbeek (MED)</td>\n",
       "      <td>Schaerbeek (MED)</td>\n",
       "      <td>1030 schaarbeek (schaarbeek)</td>\n",
       "      <td>avenue britsiers;britsierslaan</td>\n",
       "      <td>151370.0</td>\n",
       "      <td>NaN</td>\n",
       "      <td>NaN</td>\n",
       "      <td>None</td>\n",
       "      <td>None</td>\n",
       "      <td>None</td>\n",
       "      <td>None</td>\n",
       "      <td>None</td>\n",
       "      <td>None</td>\n",
       "      <td>None</td>\n",
       "      <td>None</td>\n",
       "      <td>None</td>\n",
       "      <td>None</td>\n",
       "      <td>None</td>\n",
       "      <td>None</td>\n",
       "      <td>None</td>\n",
       "      <td>None</td>\n",
       "      <td>None</td>\n",
       "    </tr>\n",
       "    <tr>\n",
       "      <th>1074</th>\n",
       "      <td>20221540196</td>\n",
       "      <td>03JUN22:11:46:26</td>\n",
       "      <td>1000 bruxelles (bruxelles)</td>\n",
       "      <td>4.343397e+10</td>\n",
       "      <td>5.084320e+10</td>\n",
       "      <td>Nieuwe melding</td>\n",
       "      <td>Medisch</td>\n",
       "      <td>P003  N01 - HARTSTILSTAND - DOOD - OVERLEDEN</td>\n",
       "      <td>03JUN22:11:48:05</td>\n",
       "      <td>NaN</td>\n",
       "      <td>ZW HSP-1</td>\n",
       "      <td>AMB HSP-1</td>\n",
       "      <td>A-HSP1</td>\n",
       "      <td>A-HSP1</td>\n",
       "      <td>HSP (AMB)</td>\n",
       "      <td>HSP (AMB)</td>\n",
       "      <td>1000 brussel (brussel)</td>\n",
       "      <td>rue haute;hoogstraat</td>\n",
       "      <td>NaN</td>\n",
       "      <td>5.083563e+10</td>\n",
       "      <td>4.347475e+10</td>\n",
       "      <td>AMB</td>\n",
       "      <td>AMB</td>\n",
       "      <td>None</td>\n",
       "      <td>None</td>\n",
       "      <td>None</td>\n",
       "      <td>None</td>\n",
       "      <td>Dood Ter Plaatse</td>\n",
       "      <td>DCD</td>\n",
       "      <td>03JUN22:11:48:46</td>\n",
       "      <td>03JUN22:11:50:28</td>\n",
       "      <td>03JUN22:11:54:26</td>\n",
       "      <td>None</td>\n",
       "      <td>None</td>\n",
       "      <td>03JUN22:12:38:18</td>\n",
       "      <td>03JUN22:13:02:52</td>\n",
       "    </tr>\n",
       "    <tr>\n",
       "      <th>1075</th>\n",
       "      <td>20221540196</td>\n",
       "      <td>03JUN22:11:46:26</td>\n",
       "      <td>1000 bruxelles (bruxelles)</td>\n",
       "      <td>4.343397e+10</td>\n",
       "      <td>5.084320e+10</td>\n",
       "      <td>Nieuwe melding</td>\n",
       "      <td>Medisch</td>\n",
       "      <td>P003  N01 - HARTSTILSTAND - DOOD - OVERLEDEN</td>\n",
       "      <td>03JUN22:11:48:06</td>\n",
       "      <td>NaN</td>\n",
       "      <td>MUG HSP 1</td>\n",
       "      <td>SMUR HSP 1</td>\n",
       "      <td>M-HSP</td>\n",
       "      <td>M-HSP</td>\n",
       "      <td>HSP (MED)</td>\n",
       "      <td>HSP (MED)</td>\n",
       "      <td>1000 bruxelles (bruxelles)</td>\n",
       "      <td>rue haute;hoogstraat</td>\n",
       "      <td>148510.0</td>\n",
       "      <td>NaN</td>\n",
       "      <td>NaN</td>\n",
       "      <td>None</td>\n",
       "      <td>None</td>\n",
       "      <td>None</td>\n",
       "      <td>None</td>\n",
       "      <td>None</td>\n",
       "      <td>None</td>\n",
       "      <td>None</td>\n",
       "      <td>None</td>\n",
       "      <td>None</td>\n",
       "      <td>None</td>\n",
       "      <td>None</td>\n",
       "      <td>None</td>\n",
       "      <td>None</td>\n",
       "      <td>None</td>\n",
       "      <td>None</td>\n",
       "    </tr>\n",
       "    <tr>\n",
       "      <th>1622</th>\n",
       "      <td>20221550234</td>\n",
       "      <td>04JUN22:16:11:01</td>\n",
       "      <td>1020 bruxelles (laeken)</td>\n",
       "      <td>4.347456e+10</td>\n",
       "      <td>5.088146e+09</td>\n",
       "      <td>Nieuwe melding</td>\n",
       "      <td>Medisch</td>\n",
       "      <td>P003  N01 - HARTSTILSTAND - DOOD - OVERLEDEN</td>\n",
       "      <td>04JUN22:16:12:25</td>\n",
       "      <td>NaN</td>\n",
       "      <td>ZW1 STAF</td>\n",
       "      <td>AMB1 EM</td>\n",
       "      <td>A-EM1</td>\n",
       "      <td>A-EM1</td>\n",
       "      <td>Heliport (MED)</td>\n",
       "      <td>Heliport (MED)</td>\n",
       "      <td>1000 brussel (brussel)</td>\n",
       "      <td>helihavenlaan</td>\n",
       "      <td>148816.0</td>\n",
       "      <td>NaN</td>\n",
       "      <td>NaN</td>\n",
       "      <td>None</td>\n",
       "      <td>None</td>\n",
       "      <td>None</td>\n",
       "      <td>None</td>\n",
       "      <td>None</td>\n",
       "      <td>None</td>\n",
       "      <td>None</td>\n",
       "      <td>None</td>\n",
       "      <td>None</td>\n",
       "      <td>None</td>\n",
       "      <td>None</td>\n",
       "      <td>None</td>\n",
       "      <td>None</td>\n",
       "      <td>None</td>\n",
       "      <td>None</td>\n",
       "    </tr>\n",
       "  </tbody>\n",
       "</table>\n",
       "</div>"
      ],
      "text/plain": [
       "       Mission ID                T0         Cityname Intervention  \\\n",
       "808   20221530374  02JUN22:20:11:21  1030 schaerbeek (schaerbeek)   \n",
       "809   20221530374  02JUN22:20:11:21  1030 schaerbeek (schaerbeek)   \n",
       "1074  20221540196  03JUN22:11:46:26    1000 bruxelles (bruxelles)   \n",
       "1075  20221540196  03JUN22:11:46:26    1000 bruxelles (bruxelles)   \n",
       "1622  20221550234  04JUN22:16:11:01       1020 bruxelles (laeken)   \n",
       "\n",
       "      Longitude intervention  Latitude intervention  description_nl  \\\n",
       "808             4.398207e+10           5.084949e+10  Nieuwe melding   \n",
       "809             4.398207e+10           5.084949e+10  Nieuwe melding   \n",
       "1074            4.343397e+10           5.084320e+10  Nieuwe melding   \n",
       "1075            4.343397e+10           5.084320e+10  Nieuwe melding   \n",
       "1622            4.347456e+10           5.088146e+09  Nieuwe melding   \n",
       "\n",
       "     ic_description_nl                      EventType and EventLevel  \\\n",
       "808            Medisch  P003  N01 - HARTSTILSTAND - DOOD - OVERLEDEN   \n",
       "809            Medisch  P003  N01 - HARTSTILSTAND - DOOD - OVERLEDEN   \n",
       "1074           Medisch  P003  N01 - HARTSTILSTAND - DOOD - OVERLEDEN   \n",
       "1075           Medisch  P003  N01 - HARTSTILSTAND - DOOD - OVERLEDEN   \n",
       "1622           Medisch  P003  N01 - HARTSTILSTAND - DOOD - OVERLEDEN   \n",
       "\n",
       "          creationtime  Number of transported persons Permanence long name NL  \\\n",
       "808   02JUN22:20:14:34                            NaN                ZW CITE2   \n",
       "809   02JUN22:20:14:34                            NaN         MUG SCHAARBEEK1   \n",
       "1074  03JUN22:11:48:05                            NaN                ZW HSP-1   \n",
       "1075  03JUN22:11:48:06                            NaN               MUG HSP 1   \n",
       "1622  04JUN22:16:12:25                            NaN                ZW1 STAF   \n",
       "\n",
       "     Permanence long name FR Permanence short name NL  \\\n",
       "808                AMB CITE2                   A-CIT2   \n",
       "809         SMUR SCHAERBEEK1                   M-SCH1   \n",
       "1074               AMB HSP-1                   A-HSP1   \n",
       "1075              SMUR HSP 1                    M-HSP   \n",
       "1622                 AMB1 EM                    A-EM1   \n",
       "\n",
       "     Permanence short name FR   Service Name NL   Service Name FR  \\\n",
       "808                    A-CIT2        CITE (MED)        CITE (MED)   \n",
       "809                    M-SCH1  Schaerbeek (MED)  Schaerbeek (MED)   \n",
       "1074                   A-HSP1         HSP (AMB)         HSP (AMB)   \n",
       "1075                    M-HSP         HSP (MED)         HSP (MED)   \n",
       "1622                    A-EM1    Heliport (MED)    Heliport (MED)   \n",
       "\n",
       "               Cityname Permanence           Streetname Permanence  \\\n",
       "808         1000 brussel (brussel)       rue vesale;vesaliusstraat   \n",
       "809   1030 schaarbeek (schaarbeek)  avenue britsiers;britsierslaan   \n",
       "1074        1000 brussel (brussel)            rue haute;hoogstraat   \n",
       "1075    1000 bruxelles (bruxelles)            rue haute;hoogstraat   \n",
       "1622        1000 brussel (brussel)                   helihavenlaan   \n",
       "\n",
       "      Housenumber Permanence  Latitude Permanence  Longitude Permanence  \\\n",
       "808                      NaN         5.085138e+10          4.364098e+10   \n",
       "809                 151370.0                  NaN                   NaN   \n",
       "1074                     NaN         5.083563e+10          4.347475e+10   \n",
       "1075                148510.0                  NaN                   NaN   \n",
       "1622                148816.0                  NaN                   NaN   \n",
       "\n",
       "     Vector type NL Vector type FR Name destination hospital  \\\n",
       "808             AMB            AMB                      None   \n",
       "809            None           None                      None   \n",
       "1074            AMB            AMB                      None   \n",
       "1075           None           None                      None   \n",
       "1622           None           None                      None   \n",
       "\n",
       "     Cityname destination hospital Streetname destination hospital  \\\n",
       "808                           None                            None   \n",
       "809                           None                            None   \n",
       "1074                          None                            None   \n",
       "1075                          None                            None   \n",
       "1622                          None                            None   \n",
       "\n",
       "     Housenumber destination hospital Abandon reason NL Abandon reason FR  \\\n",
       "808                              None  Dood Ter Plaatse               DCD   \n",
       "809                              None              None              None   \n",
       "1074                             None  Dood Ter Plaatse               DCD   \n",
       "1075                             None              None              None   \n",
       "1622                             None              None              None   \n",
       "\n",
       "                    T1                T2                T3    T4    T5  \\\n",
       "808   02JUN22:20:14:55  02JUN22:20:16:53              None  None  None   \n",
       "809               None              None              None  None  None   \n",
       "1074  03JUN22:11:48:46  03JUN22:11:50:28  03JUN22:11:54:26  None  None   \n",
       "1075              None              None              None  None  None   \n",
       "1622              None              None              None  None  None   \n",
       "\n",
       "                    T6                T7  \n",
       "808   02JUN22:20:27:42  02JUN22:20:50:13  \n",
       "809               None              None  \n",
       "1074  03JUN22:12:38:18  03JUN22:13:02:52  \n",
       "1075              None              None  \n",
       "1622              None              None  "
      ]
     },
     "execution_count": 84,
     "metadata": {},
     "output_type": "execute_result"
    }
   ],
   "source": [
    "#Checking out if the generated datasets look alright, which they do\n",
    "interventions_bxl2_cardiac.head(5)"
   ]
  }
 ],
 "metadata": {
  "kernelspec": {
   "display_name": "Python 3",
   "language": "python",
   "name": "python3"
  },
  "language_info": {
   "codemirror_mode": {
    "name": "ipython",
    "version": 3
   },
   "file_extension": ".py",
   "mimetype": "text/x-python",
   "name": "python",
   "nbconvert_exporter": "python",
   "pygments_lexer": "ipython3",
   "version": "3.8.6"
  }
 },
 "nbformat": 4,
 "nbformat_minor": 2
}
