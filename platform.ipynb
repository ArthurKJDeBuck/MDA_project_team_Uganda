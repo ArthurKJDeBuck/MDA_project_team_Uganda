{
 "cells": [
  {
   "cell_type": "code",
   "execution_count": 1,
   "metadata": {},
   "outputs": [
    {
     "name": "stdout",
     "output_type": "stream",
     "text": [
      "Requirement already satisfied: jupyter_dash in c:\\users\\mogliana\\appdata\\local\\anaconda3\\lib\\site-packages (0.4.2)\n",
      "Requirement already satisfied: dash in c:\\users\\mogliana\\appdata\\local\\anaconda3\\lib\\site-packages (2.17.0)\n",
      "Requirement already satisfied: dash_core_components in c:\\users\\mogliana\\appdata\\local\\anaconda3\\lib\\site-packages (2.0.0)\n",
      "Requirement already satisfied: dash_html_components in c:\\users\\mogliana\\appdata\\local\\anaconda3\\lib\\site-packages (2.0.0)\n",
      "Requirement already satisfied: dash_daq in c:\\users\\mogliana\\appdata\\local\\anaconda3\\lib\\site-packages (0.5.0)\n",
      "Requirement already satisfied: plotly in c:\\users\\mogliana\\appdata\\local\\anaconda3\\lib\\site-packages (5.9.0)\n",
      "Requirement already satisfied: pandas in c:\\users\\mogliana\\appdata\\local\\anaconda3\\lib\\site-packages (2.1.4)\n",
      "Requirement already satisfied: requests in c:\\users\\mogliana\\appdata\\local\\anaconda3\\lib\\site-packages (from jupyter_dash) (2.31.0)\n",
      "Requirement already satisfied: flask in c:\\users\\mogliana\\appdata\\local\\anaconda3\\lib\\site-packages (from jupyter_dash) (2.2.5)\n",
      "Requirement already satisfied: retrying in c:\\users\\mogliana\\appdata\\local\\anaconda3\\lib\\site-packages (from jupyter_dash) (1.3.4)\n",
      "Requirement already satisfied: ipython in c:\\users\\mogliana\\appdata\\local\\anaconda3\\lib\\site-packages (from jupyter_dash) (8.20.0)\n",
      "Requirement already satisfied: ipykernel in c:\\users\\mogliana\\appdata\\local\\anaconda3\\lib\\site-packages (from jupyter_dash) (6.28.0)\n",
      "Requirement already satisfied: ansi2html in c:\\users\\mogliana\\appdata\\local\\anaconda3\\lib\\site-packages (from jupyter_dash) (1.9.1)\n",
      "Requirement already satisfied: nest-asyncio in c:\\users\\mogliana\\appdata\\local\\anaconda3\\lib\\site-packages (from jupyter_dash) (1.6.0)\n",
      "Requirement already satisfied: Werkzeug<3.1 in c:\\users\\mogliana\\appdata\\local\\anaconda3\\lib\\site-packages (from dash) (2.2.3)\n",
      "Requirement already satisfied: dash-table==5.0.0 in c:\\users\\mogliana\\appdata\\local\\anaconda3\\lib\\site-packages (from dash) (5.0.0)\n",
      "Requirement already satisfied: importlib-metadata in c:\\users\\mogliana\\appdata\\local\\anaconda3\\lib\\site-packages (from dash) (7.0.1)\n",
      "Requirement already satisfied: typing-extensions>=4.1.1 in c:\\users\\mogliana\\appdata\\local\\anaconda3\\lib\\site-packages (from dash) (4.9.0)\n",
      "Requirement already satisfied: setuptools in c:\\users\\mogliana\\appdata\\local\\anaconda3\\lib\\site-packages (from dash) (68.2.2)\n",
      "Requirement already satisfied: tenacity>=6.2.0 in c:\\users\\mogliana\\appdata\\local\\anaconda3\\lib\\site-packages (from plotly) (8.2.2)\n",
      "Requirement already satisfied: numpy<2,>=1.23.2 in c:\\users\\mogliana\\appdata\\local\\anaconda3\\lib\\site-packages (from pandas) (1.26.4)\n",
      "Requirement already satisfied: python-dateutil>=2.8.2 in c:\\users\\mogliana\\appdata\\local\\anaconda3\\lib\\site-packages (from pandas) (2.8.2)\n",
      "Requirement already satisfied: pytz>=2020.1 in c:\\users\\mogliana\\appdata\\local\\anaconda3\\lib\\site-packages (from pandas) (2023.3.post1)\n",
      "Requirement already satisfied: tzdata>=2022.1 in c:\\users\\mogliana\\appdata\\local\\anaconda3\\lib\\site-packages (from pandas) (2023.3)\n",
      "Requirement already satisfied: Jinja2>=3.0 in c:\\users\\mogliana\\appdata\\local\\anaconda3\\lib\\site-packages (from flask->jupyter_dash) (3.1.3)\n",
      "Requirement already satisfied: itsdangerous>=2.0 in c:\\users\\mogliana\\appdata\\local\\anaconda3\\lib\\site-packages (from flask->jupyter_dash) (2.0.1)\n",
      "Requirement already satisfied: click>=8.0 in c:\\users\\mogliana\\appdata\\local\\anaconda3\\lib\\site-packages (from flask->jupyter_dash) (8.1.7)\n",
      "Requirement already satisfied: six>=1.5 in c:\\users\\mogliana\\appdata\\local\\anaconda3\\lib\\site-packages (from python-dateutil>=2.8.2->pandas) (1.16.0)\n",
      "Requirement already satisfied: MarkupSafe>=2.1.1 in c:\\users\\mogliana\\appdata\\local\\anaconda3\\lib\\site-packages (from Werkzeug<3.1->dash) (2.1.3)\n",
      "Requirement already satisfied: zipp>=0.5 in c:\\users\\mogliana\\appdata\\local\\anaconda3\\lib\\site-packages (from importlib-metadata->dash) (3.17.0)\n",
      "Requirement already satisfied: comm>=0.1.1 in c:\\users\\mogliana\\appdata\\local\\anaconda3\\lib\\site-packages (from ipykernel->jupyter_dash) (0.1.2)\n",
      "Requirement already satisfied: debugpy>=1.6.5 in c:\\users\\mogliana\\appdata\\local\\anaconda3\\lib\\site-packages (from ipykernel->jupyter_dash) (1.6.7)\n",
      "Requirement already satisfied: jupyter-client>=6.1.12 in c:\\users\\mogliana\\appdata\\local\\anaconda3\\lib\\site-packages (from ipykernel->jupyter_dash) (8.6.0)\n",
      "Requirement already satisfied: jupyter-core!=5.0.*,>=4.12 in c:\\users\\mogliana\\appdata\\local\\anaconda3\\lib\\site-packages (from ipykernel->jupyter_dash) (5.5.0)\n",
      "Requirement already satisfied: matplotlib-inline>=0.1 in c:\\users\\mogliana\\appdata\\local\\anaconda3\\lib\\site-packages (from ipykernel->jupyter_dash) (0.1.6)\n",
      "Requirement already satisfied: packaging in c:\\users\\mogliana\\appdata\\local\\anaconda3\\lib\\site-packages (from ipykernel->jupyter_dash) (23.1)\n",
      "Requirement already satisfied: psutil in c:\\users\\mogliana\\appdata\\local\\anaconda3\\lib\\site-packages (from ipykernel->jupyter_dash) (5.9.0)\n",
      "Requirement already satisfied: pyzmq>=24 in c:\\users\\mogliana\\appdata\\local\\anaconda3\\lib\\site-packages (from ipykernel->jupyter_dash) (25.1.2)\n",
      "Requirement already satisfied: tornado>=6.1 in c:\\users\\mogliana\\appdata\\local\\anaconda3\\lib\\site-packages (from ipykernel->jupyter_dash) (6.3.3)\n",
      "Requirement already satisfied: traitlets>=5.4.0 in c:\\users\\mogliana\\appdata\\local\\anaconda3\\lib\\site-packages (from ipykernel->jupyter_dash) (5.7.1)\n",
      "Requirement already satisfied: decorator in c:\\users\\mogliana\\appdata\\local\\anaconda3\\lib\\site-packages (from ipython->jupyter_dash) (5.1.1)\n",
      "Requirement already satisfied: jedi>=0.16 in c:\\users\\mogliana\\appdata\\local\\anaconda3\\lib\\site-packages (from ipython->jupyter_dash) (0.18.1)\n",
      "Requirement already satisfied: prompt-toolkit<3.1.0,>=3.0.41 in c:\\users\\mogliana\\appdata\\local\\anaconda3\\lib\\site-packages (from ipython->jupyter_dash) (3.0.43)\n",
      "Requirement already satisfied: pygments>=2.4.0 in c:\\users\\mogliana\\appdata\\local\\anaconda3\\lib\\site-packages (from ipython->jupyter_dash) (2.15.1)\n",
      "Requirement already satisfied: stack-data in c:\\users\\mogliana\\appdata\\local\\anaconda3\\lib\\site-packages (from ipython->jupyter_dash) (0.2.0)\n",
      "Requirement already satisfied: colorama in c:\\users\\mogliana\\appdata\\local\\anaconda3\\lib\\site-packages (from ipython->jupyter_dash) (0.4.6)\n",
      "Requirement already satisfied: charset-normalizer<4,>=2 in c:\\users\\mogliana\\appdata\\local\\anaconda3\\lib\\site-packages (from requests->jupyter_dash) (2.0.4)\n",
      "Requirement already satisfied: idna<4,>=2.5 in c:\\users\\mogliana\\appdata\\local\\anaconda3\\lib\\site-packages (from requests->jupyter_dash) (3.4)\n",
      "Requirement already satisfied: urllib3<3,>=1.21.1 in c:\\users\\mogliana\\appdata\\local\\anaconda3\\lib\\site-packages (from requests->jupyter_dash) (2.0.7)\n",
      "Requirement already satisfied: certifi>=2017.4.17 in c:\\users\\mogliana\\appdata\\local\\anaconda3\\lib\\site-packages (from requests->jupyter_dash) (2024.2.2)\n",
      "Requirement already satisfied: parso<0.9.0,>=0.8.0 in c:\\users\\mogliana\\appdata\\local\\anaconda3\\lib\\site-packages (from jedi>=0.16->ipython->jupyter_dash) (0.8.3)\n",
      "Requirement already satisfied: platformdirs>=2.5 in c:\\users\\mogliana\\appdata\\local\\anaconda3\\lib\\site-packages (from jupyter-core!=5.0.*,>=4.12->ipykernel->jupyter_dash) (3.10.0)\n",
      "Requirement already satisfied: pywin32>=300 in c:\\users\\mogliana\\appdata\\local\\anaconda3\\lib\\site-packages (from jupyter-core!=5.0.*,>=4.12->ipykernel->jupyter_dash) (305.1)\n",
      "Requirement already satisfied: wcwidth in c:\\users\\mogliana\\appdata\\local\\anaconda3\\lib\\site-packages (from prompt-toolkit<3.1.0,>=3.0.41->ipython->jupyter_dash) (0.2.5)\n",
      "Requirement already satisfied: executing in c:\\users\\mogliana\\appdata\\local\\anaconda3\\lib\\site-packages (from stack-data->ipython->jupyter_dash) (0.8.3)\n",
      "Requirement already satisfied: asttokens in c:\\users\\mogliana\\appdata\\local\\anaconda3\\lib\\site-packages (from stack-data->ipython->jupyter_dash) (2.0.5)\n",
      "Requirement already satisfied: pure-eval in c:\\users\\mogliana\\appdata\\local\\anaconda3\\lib\\site-packages (from stack-data->ipython->jupyter_dash) (0.2.2)\n",
      "Note: you may need to restart the kernel to use updated packages.\n"
     ]
    }
   ],
   "source": [
    "pip install jupyter_dash dash dash_core_components dash_html_components dash_daq plotly pandas"
   ]
  },
  {
   "cell_type": "code",
   "execution_count": 2,
   "metadata": {},
   "outputs": [
    {
     "name": "stderr",
     "output_type": "stream",
     "text": [
      "C:\\Users\\MOGLIANA\\AppData\\Local\\Temp\\ipykernel_39012\\672181554.py:1: UserWarning: \n",
      "The dash_table package is deprecated. Please replace\n",
      "`import dash_table` with `from dash import dash_table`\n",
      "\n",
      "Also, if you're using any of the table format helpers (e.g. Group), replace \n",
      "`from dash_table.Format import Group` with \n",
      "`from dash.dash_table.Format import Group`\n",
      "  import dash_table\n"
     ]
    }
   ],
   "source": [
    "import dash_table\n",
    "from jupyter_dash import JupyterDash\n",
    "from dash import html\n",
    "from dash import dcc\n",
    "from dash.dependencies import Input, Output\n",
    "import plotly.express as px\n",
    "import pandas as pd"
   ]
  },
  {
   "cell_type": "markdown",
   "metadata": {},
   "source": [
    "Load the CSV file into a DataFrame"
   ]
  },
  {
   "cell_type": "code",
   "execution_count": 3,
   "metadata": {},
   "outputs": [],
   "source": [
    "filtered_cardiac_interventions = pd.read_csv('filtered_cardiac_interventions_ROC.csv')\n",
    "# Check for any None values and handle them\n",
    "filtered_cardiac_interventions.dropna(subset=['Latitude Intervention', 'Longitude Intervention', 'deltaT', 'Postal Code'], inplace=True)"
   ]
  },
  {
   "cell_type": "markdown",
   "metadata": {},
   "source": [
    "Now we import a .csv file with the list of Belgian Communes by Postal Code, and we add information about their Province and Region"
   ]
  },
  {
   "cell_type": "code",
   "execution_count": 4,
   "metadata": {},
   "outputs": [],
   "source": [
    "# URL to the raw CSV file\n",
    "url = \"https://github.com/jief/zipcode-belgium/raw/master/zipcode-belgium.csv\"\n",
    "\n",
    "# Column names\n",
    "column_names = ['Postal Code', 'Commune Name', 'Longitude Commune', 'Latitude Commune']\n",
    "\n",
    "# Read the CSV file into a DataFrame without specifying a header\n",
    "communes = pd.read_csv(url, header=None)\n",
    "\n",
    "# Manually set the column names\n",
    "communes.columns = column_names\n",
    "\n",
    "# Ensure no empty spaces and reset index\n",
    "communes['Commune Name'] = communes['Commune Name'].str.strip()\n",
    "communes = communes.reset_index(drop=True)\n",
    "\n",
    "# Define the function to determine the province\n",
    "def determine_province(postal_code):\n",
    "    if 2000 <= postal_code <= 2999:\n",
    "        return \"Antwerp\"\n",
    "    elif 1000 <= postal_code <= 1299:\n",
    "        return \"Brussels\"\n",
    "    elif 9000 <= postal_code <= 9999:\n",
    "        return \"East Flanders\"\n",
    "    elif (1500 <= postal_code <= 1999) or (3000 <= postal_code <= 3499):\n",
    "        return \"Flemish Brabant\"\n",
    "    elif (6000 <= postal_code <= 6599) or (7000 <= postal_code <= 7999):\n",
    "        return \"Hainaut\"\n",
    "    elif 4000 <= postal_code <= 4999:\n",
    "        return \"Liege\"\n",
    "    elif 3500 <= postal_code <= 3999:\n",
    "        return \"Limburg\"\n",
    "    elif 6600 <= postal_code <= 7000:\n",
    "        return \"Luxembourg\"\n",
    "    elif 5000 <= postal_code <= 5999:\n",
    "        return \"Namur\"\n",
    "    elif 1300 <= postal_code <= 1499:\n",
    "        return \"Walloon Brabant\"\n",
    "    elif 8000 <= postal_code <= 8999:\n",
    "        return \"West Flanders\"\n",
    "    else:\n",
    "        return \"Unknown\"\n",
    "\n",
    "# Define the function to determine the region\n",
    "def determine_region(postal_code):\n",
    "    if 1000 <= postal_code <= 1299:\n",
    "        return \"Brussels\"\n",
    "    elif (1500 <= postal_code <= 3999) or (8000 <= postal_code <= 9999):\n",
    "        return \"Flanders\"\n",
    "    else:\n",
    "        return \"Wallonia\"\n",
    "\n",
    "# Convert Postal Code to int for correct processing\n",
    "communes['Postal Code'] = communes['Postal Code'].astype(int)\n",
    "\n",
    "# Group by 'Postal Code' and aggregate\n",
    "communes_aggregated = communes.groupby('Postal Code').agg({\n",
    "    'Commune Name': lambda x: ' / '.join(x),\n",
    "    'Longitude Commune': 'mean',\n",
    "    'Latitude Commune': 'mean'\n",
    "}).reset_index()\n",
    "\n",
    "# Apply the functions to create the new columns on the aggregated DataFrame\n",
    "communes_aggregated['Province'] = communes_aggregated['Postal Code'].apply(determine_province)\n",
    "communes_aggregated['Region'] = communes_aggregated['Postal Code'].apply(determine_region)\n",
    "\n",
    "# Save to CSV (optional)\n",
    "communes_aggregated.to_csv('communes_list.csv', index=False)"
   ]
  },
  {
   "cell_type": "markdown",
   "metadata": {},
   "source": [
    "Calculate the averages per postal code"
   ]
  },
  {
   "cell_type": "code",
   "execution_count": 5,
   "metadata": {},
   "outputs": [],
   "source": [
    "# Calculate the average value per postal code\n",
    "averages = filtered_cardiac_interventions.groupby('Postal Code').agg({\n",
    "    'deltaT': 'mean',\n",
    "    'Postal Code': 'size'\n",
    "}).rename(columns={'Postal Code': 'count'}).reset_index()\n",
    "\n",
    "# Merge with the communes DataFrame to add the additional columns\n",
    "averages = averages.merge(communes_aggregated, on='Postal Code', how='left')\n",
    "\n",
    "# Determine the max value of deltaT for color range\n",
    "max_deltaT = averages['deltaT'].max()"
   ]
  },
  {
   "cell_type": "markdown",
   "metadata": {},
   "source": [
    "Now we create the app"
   ]
  },
  {
   "cell_type": "code",
   "execution_count": 6,
   "metadata": {},
   "outputs": [
    {
     "name": "stderr",
     "output_type": "stream",
     "text": [
      "c:\\Users\\MOGLIANA\\AppData\\Local\\anaconda3\\Lib\\site-packages\\dash\\dash.py:556: UserWarning:\n",
      "\n",
      "JupyterDash is deprecated, use Dash instead.\n",
      "See https://dash.plotly.com/dash-in-jupyter for more details.\n",
      "\n"
     ]
    }
   ],
   "source": [
    "app = JupyterDash(__name__)\n",
    "app.title = \"Cardiac Interventions Rankings\""
   ]
  },
  {
   "cell_type": "markdown",
   "metadata": {},
   "source": [
    "Manually scale the size of the scatters"
   ]
  },
  {
   "cell_type": "code",
   "execution_count": 7,
   "metadata": {},
   "outputs": [],
   "source": [
    "# Manually scale sizes between 50 and 200\n",
    "size_min = 20\n",
    "size_max = 300\n",
    "count_min = averages['count'].min()\n",
    "count_max = averages['count'].max()\n",
    "\n",
    "# Scale the count values to the desired size range\n",
    "if count_max != count_min:\n",
    "    averages['scaled_size'] = ((averages['count'] - count_min) / (count_max - count_min)) * (size_max - size_min) + size_min\n",
    "else:\n",
    "    averages['scaled_size'] = size_min"
   ]
  },
  {
   "cell_type": "markdown",
   "metadata": {},
   "source": [
    "Now, it's time to create the map"
   ]
  },
  {
   "cell_type": "code",
   "execution_count": 8,
   "metadata": {},
   "outputs": [],
   "source": [
    "# Custom color scale from green to red\n",
    "color_scale = [\n",
    "    [0, \"green\"],\n",
    "    [1, \"red\"]\n",
    "]\n",
    "\n",
    "# Map creation function\n",
    "def create_figure(df):\n",
    "        \n",
    "        hover_texts = df['Commune Name'].apply(lambda x: (str(x)[:30] + '...') if isinstance(x, str) and len(x) > 30 else str(x))\n",
    "        # Format numbers to two decimal places\n",
    "        df['deltaT'] = df['deltaT'].round(2)\n",
    "\n",
    "        fig = px.scatter_mapbox(\n",
    "            df,\n",
    "            lat='Latitude Commune',\n",
    "            lon='Longitude Commune',\n",
    "            size='count',\n",
    "            color='deltaT',\n",
    "            color_continuous_scale=color_scale,\n",
    "            range_color=[0, 20],\n",
    "            hover_name=hover_texts,\n",
    "            hover_data={'Latitude Commune': False, 'Longitude Commune': False, 'count': True, 'deltaT': True},\n",
    "            labels={'deltaT': 'Time Delay', 'count':'Number of Observations'}\n",
    "        )\n",
    "\n",
    "        # Update marker sizes\n",
    "        fig.update_traces(marker=dict(size=df['scaled_size']))\n",
    "\n",
    "        fig.update_layout(\n",
    "            mapbox_style='open-street-map',\n",
    "            mapbox_zoom=6.8,\n",
    "            mapbox_center={'lat': 50.8503, 'lon': 4.3517},\n",
    "            font=dict(family=\"Arial\")\n",
    "        )\n",
    "        return fig\n",
    "\n",
    "# Create initial map figure\n",
    "fig = create_figure(averages)"
   ]
  },
  {
   "cell_type": "markdown",
   "metadata": {},
   "source": [
    "Define the Layout"
   ]
  },
  {
   "cell_type": "code",
   "execution_count": 9,
   "metadata": {},
   "outputs": [],
   "source": [
    "n = 5\n",
    "k = 10\n",
    "\n",
    "# Filter out provinces with `None` value to fix the dropdown error\n",
    "valid_provinces = averages['Province'].dropna().unique()\n",
    "\n",
    "# Format numbers to two decimal places\n",
    "averages['deltaT'] = averages['deltaT'].round(2)\n",
    "\n",
    "# App layout\n",
    "# App layout\n",
    "app.layout = html.Div([\n",
    "    html.H1('Intervention time delay* in case of cardiac arrest, average time per Commune', style={'font-family': 'Arial', 'text-align': 'center'}),\n",
    "    html.H2('Interactive Map and Table (showing the Communes with the highest intervention time delay*), also by Province', style={'font-family': 'Arial', 'text-align': 'center'}),\n",
    "    dcc.Dropdown(\n",
    "        id='province-filter',\n",
    "        options=[{'label': province, 'value': province} for province in valid_provinces],\n",
    "        multi=True,\n",
    "        placeholder=\"Select Province(s)\",\n",
    "        style={'font-family': 'Arial'}\n",
    "    ),\n",
    "    html.Div([\n",
    "        dcc.Graph(id='map', figure=fig, style={'width': '65%', 'display': 'inline-block', 'height': '600px'}),\n",
    "        dash_table.DataTable(\n",
    "            id='table',\n",
    "            columns=[\n",
    "                {'name': 'Postal Code', 'id': 'Postal Code'},\n",
    "                {'name': 'Commune Name(s)', 'id': 'Commune Name'},\n",
    "                {'name': 'Time Delay', 'id': 'deltaT'},\n",
    "                {'name': 'Number of Observations', 'id': 'count'},\n",
    "                {'name': 'Province', 'id':'Province'}\n",
    "            ],\n",
    "            style_table={'margin-top': '50px', 'width': '100%', 'height': '600px', 'overflowY': 'auto'},\n",
    "            style_cell={'whiteSpace': 'normal','height': 'auto', 'font-family': 'Arial', 'font-size': '14px'},\n",
    "            page_size=k,  # Ensure that the table can hold at least k rows\n",
    "        )\n",
    "    ], style={'display': 'flex'}),\n",
    "    html.P(\"* With 'Time Delay' it is indicated the difference between the average historical time of intervention in the commune and a time of intervention (statistically individuated) which ensures a good chance of survival. For further information, please consult the documentation.\", style={'font-family': 'Arial', 'margin-top': '10px', 'text-align': 'center'})\n",
    "])\n",
    "\n",
    "# Callbacks for interactions\n",
    "@app.callback(\n",
    "        [Output('map', 'figure'), Output('table', 'data')],\n",
    "        [Input('province-filter', 'value')]\n",
    "    )\n",
    "def update_map_and_table(selected_provinces):\n",
    "        if selected_provinces:\n",
    "            filtered_df = averages[averages['Province'].isin(selected_provinces)]\n",
    "        else:\n",
    "            filtered_df = averages\n",
    "\n",
    "        filtered_df_min_n = filtered_df[filtered_df['count'] >= n]\n",
    "        top_k_communes = filtered_df_min_n.nlargest(k, 'deltaT')\n",
    "\n",
    "        # Truncate the Commune Name for display in the table\n",
    "        top_k_communes['Commune Name'] = top_k_communes['Commune Name'].apply(lambda x: (x[:30] + '...') if len(x) > 30 else x)\n",
    "        \n",
    "        # Update map\n",
    "        fig = create_figure(filtered_df)\n",
    "\n",
    "        # Center map on selected provinces with a zoom (set to average center here for simplicity)\n",
    "        if selected_provinces:\n",
    "            center_lat = filtered_df['Latitude Commune'].mean()\n",
    "            center_lon = filtered_df['Longitude Commune'].mean()\n",
    "            fig.update_layout(mapbox_center={'lat': center_lat, 'lon': center_lon}, mapbox_zoom=7.5)\n",
    "        else:\n",
    "            fig.update_layout(mapbox_center={'lat': 50.8503, 'lon': 4.3517}, mapbox_zoom=6.8)\n",
    "\n",
    "        return fig, top_k_communes.to_dict('records')"
   ]
  },
  {
   "cell_type": "markdown",
   "metadata": {},
   "source": [
    "Run the app"
   ]
  },
  {
   "cell_type": "code",
   "execution_count": 10,
   "metadata": {},
   "outputs": [
    {
     "data": {
      "text/html": [
       "\n",
       "        <iframe\n",
       "            width=\"100%\"\n",
       "            height=\"650\"\n",
       "            src=\"http://127.0.0.1:8050/\"\n",
       "            frameborder=\"0\"\n",
       "            allowfullscreen\n",
       "            \n",
       "        ></iframe>\n",
       "        "
      ],
      "text/plain": [
       "<IPython.lib.display.IFrame at 0x284b0f0d8d0>"
      ]
     },
     "metadata": {},
     "output_type": "display_data"
    },
    {
     "name": "stdout",
     "output_type": "stream",
     "text": [
      "Dash app running on http://127.0.0.1:8050/\n",
      "App running at http://127.0.0.1:8050/\n"
     ]
    },
    {
     "name": "stderr",
     "output_type": "stream",
     "text": [
      "C:\\Users\\MOGLIANA\\AppData\\Local\\Temp\\ipykernel_39012\\3462884719.py:12: SettingWithCopyWarning:\n",
      "\n",
      "\n",
      "A value is trying to be set on a copy of a slice from a DataFrame.\n",
      "Try using .loc[row_indexer,col_indexer] = value instead\n",
      "\n",
      "See the caveats in the documentation: https://pandas.pydata.org/pandas-docs/stable/user_guide/indexing.html#returning-a-view-versus-a-copy\n",
      "\n"
     ]
    }
   ],
   "source": [
    "# Run the app without 'mode'\n",
    "try:\n",
    "    app.run_server(debug=True)\n",
    "    print(\"App running at http://127.0.0.1:8050/\")\n",
    "except Exception as e:\n",
    "    print(f\"Error running server: {e}\")"
   ]
  }
 ],
 "metadata": {
  "kernelspec": {
   "display_name": "base",
   "language": "python",
   "name": "python3"
  },
  "language_info": {
   "codemirror_mode": {
    "name": "ipython",
    "version": 3
   },
   "file_extension": ".py",
   "mimetype": "text/x-python",
   "name": "python",
   "nbconvert_exporter": "python",
   "pygments_lexer": "ipython3",
   "version": "3.11.7"
  }
 },
 "nbformat": 4,
 "nbformat_minor": 2
}
